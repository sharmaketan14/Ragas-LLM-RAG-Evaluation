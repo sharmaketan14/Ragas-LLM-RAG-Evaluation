{
 "cells": [
  {
   "cell_type": "code",
   "execution_count": 40,
   "metadata": {},
   "outputs": [],
   "source": [
    "import os\n",
    "import json\n",
    "import time\n",
    "import re\n",
    "import numpy as np\n",
    "from tqdm import tqdm\n",
    "from operator import itemgetter\n",
    "from PyPDF2 import PdfReader\n",
    "from ragas.metrics.critique import harmfulness\n",
    "from ragas import evaluate\n",
    "import pandas as pd\n",
    "from datasets import Dataset\n",
    "from langchain_chroma import Chroma\n",
    "from langchain_core.prompts import ChatPromptTemplate, MessagesPlaceholder\n",
    "from langchain_core.runnables.history import RunnableWithMessageHistory\n",
    "from langchain_community.chat_message_histories import ChatMessageHistory\n",
    "from langchain.chains.combine_documents import create_stuff_documents_chain\n",
    "from langchain_core.chat_history import BaseChatMessageHistory\n",
    "from langchain.storage import LocalFileStore\n",
    "from langchain.retrievers import ParentDocumentRetriever\n",
    "from langchain.schema.output_parser import StrOutputParser\n",
    "from langchain.storage import InMemoryStore\n",
    "from langchain.storage._lc_store import create_kv_docstore\n",
    "from langchain.chains import create_history_aware_retriever, create_retrieval_chain\n",
    "from langchain_ollama import OllamaEmbeddings\n",
    "from langchain.text_splitter import RecursiveCharacterTextSplitter\n",
    "from langchain.text_splitter import RecursiveCharacterTextSplitter\n",
    "from langchain.output_parsers import ResponseSchema\n",
    "from langchain.output_parsers import StructuredOutputParser\n",
    "from ragas.llms import LangchainLLMWrapper\n",
    "from langchain.prompts import ChatPromptTemplate\n",
    "from langchain_ollama import ChatOllama\n",
    "from sklearn.metrics.pairwise import cosine_similarity\n",
    "from langchain_core.documents import Document\n",
    "import math\n",
    "from ragas.metrics import (\n",
    "    answer_relevancy,\n",
    "    faithfulness,\n",
    "    context_recall,\n",
    "    context_precision\n",
    ")"
   ]
  },
  {
   "cell_type": "markdown",
   "metadata": {},
   "source": [
    "LangSmith Montitoring Client"
   ]
  },
  {
   "cell_type": "code",
   "execution_count": 41,
   "metadata": {},
   "outputs": [],
   "source": [
    "from langsmith import Client\n",
    "\n",
    "client = Client()"
   ]
  },
  {
   "cell_type": "markdown",
   "metadata": {},
   "source": [
    "Embeddings LLM"
   ]
  },
  {
   "cell_type": "code",
   "execution_count": 42,
   "metadata": {},
   "outputs": [],
   "source": [
    "\n",
    "embeddings = OllamaEmbeddings(\n",
    "    model=\"llama3\",\n",
    ")"
   ]
  },
  {
   "cell_type": "markdown",
   "metadata": {},
   "source": [
    "Cosine Similarity"
   ]
  },
  {
   "cell_type": "code",
   "execution_count": 43,
   "metadata": {},
   "outputs": [],
   "source": [
    "def cosine_sim(s1, s2) :\n",
    "    u = embeddings.embed_query(s1)\n",
    "    u = np.array(u)\n",
    "    v = embeddings.embed_query(s2)\n",
    "    v = np.array(v)\n",
    "    dot_product = sum(i * j for i, j in zip(u, v))\n",
    "    norm_u = math.sqrt(sum(i*i for i in u))\n",
    "    norm_v = math.sqrt(sum(i*i for i in v))\n",
    "    cos_theta = dot_product/(norm_u * norm_v)\n",
    "\n",
    "    return cos_theta"
   ]
  },
  {
   "cell_type": "markdown",
   "metadata": {},
   "source": [
    "Extract PDFs"
   ]
  },
  {
   "cell_type": "code",
   "execution_count": 44,
   "metadata": {},
   "outputs": [],
   "source": [
    "def extract_pdfs(pdfs):\n",
    "    #Returns the string with all PDF content.\n",
    "    l = \"\"\n",
    "    for pdf in pdfs:\n",
    "        title = pdf[7:]\n",
    "        if(title != \"The Sexual Harassment of Women at Workplace.pdf\"):\n",
    "            continue\n",
    "        print(title)\n",
    "        reader = PdfReader(pdf)\n",
    "\n",
    "        for i, page in enumerate(reader.pages):\n",
    "            if(i < 2):\n",
    "                continue\n",
    "            else :\n",
    "                raw = page.extract_text()\n",
    "                l += raw\n",
    "    return l"
   ]
  },
  {
   "cell_type": "markdown",
   "metadata": {},
   "source": [
    "Importing the generated dataset"
   ]
  },
  {
   "cell_type": "code",
   "execution_count": 45,
   "metadata": {},
   "outputs": [],
   "source": [
    "\n",
    "def load_data(file_name) :\n",
    "    data = None\n",
    "    try:\n",
    "        with open(file_name, 'r') as file:\n",
    "            data = json.load(file)\n",
    "    except FileNotFoundError:\n",
    "        print(f\"The file {file_name} is not found\")\n",
    "        return None\n",
    "    \n",
    "    metadata = data['config']\n",
    "    dataset = data['data']\n",
    "    return dataset"
   ]
  },
  {
   "cell_type": "markdown",
   "metadata": {},
   "source": [
    "Creating the RAGAS Dataset"
   ]
  },
  {
   "cell_type": "code",
   "execution_count": 46,
   "metadata": {},
   "outputs": [],
   "source": [
    "def create_ragas_dataset(rag_chains, dataset) :\n",
    "    rag_datset = []\n",
    "    j = 0\n",
    "    for r in tqdm(dataset):\n",
    "        if(j > 10):\n",
    "            break\n",
    "        maxi_p = 0\n",
    "        ans = None\n",
    "        con = None\n",
    "        for chain in rag_chains:\n",
    "            answer = chain.invoke({\"question\" : r[\"question\"], \"title\" : r[\"title\"]})\n",
    "            maxi = 0\n",
    "            con_c = None\n",
    "            for context in answer[\"context\"]:\n",
    "                sim_score = cosine_sim(context.page_content, answer[\"response\"].content)\n",
    "                if sim_score > maxi:\n",
    "                    maxi = sim_score\n",
    "                    con_c = context.page_content\n",
    "            if sim_score > maxi_p:\n",
    "                ans = answer[\"response\"].content\n",
    "                con = con_c\n",
    "        print(ans)\n",
    "        input_dict = {\n",
    "            \"question\":r[\"question\"],\n",
    "            \"ground_truth\":r[\"ground_truth\"],\n",
    "            \"contexts\": [con],\n",
    "            \"answer\": ans,\n",
    "        }\n",
    "        rag_datset.append(input_dict)\n",
    "        j += 1\n",
    "    rag_df = pd.DataFrame(rag_datset)\n",
    "    rag_eval_dataset = Dataset.from_pandas(rag_df)\n",
    "    \n",
    "    return rag_eval_dataset"
   ]
  },
  {
   "cell_type": "markdown",
   "metadata": {},
   "source": [
    "Evaluating the dataset"
   ]
  },
  {
   "cell_type": "code",
   "execution_count": 47,
   "metadata": {},
   "outputs": [],
   "source": [
    "from ragas.run_config import RunConfig\n",
    "def evaluate_ragas_datset(ragas_dataset):\n",
    "    result = evaluate(\n",
    "    dataset=ragas_dataset,\n",
    "    llm=ChatOllama(model=\"llama3\"),\n",
    "    embeddings=embeddings,\n",
    "    metrics=[\n",
    "        faithfulness,\n",
    "        answer_relevancy,\n",
    "        context_precision,\n",
    "        context_recall\n",
    "    ]\n",
    "    )\n",
    "    return result"
   ]
  },
  {
   "cell_type": "code",
   "execution_count": 48,
   "metadata": {},
   "outputs": [
    {
     "name": "stdout",
     "output_type": "stream",
     "text": [
      "The Sexual Harassment of Women at Workplace.pdf\n"
     ]
    }
   ],
   "source": [
    "pdfs = []\n",
    "for _,_,files in os.walk('./Acts', topdown=True):\n",
    "    for file in files:\n",
    "        path = './Acts/' + file\n",
    "        pdfs.append(path)\n",
    "\n",
    "docs = extract_pdfs(pdfs)\n",
    "\n",
    "documents_rec = Document(\n",
    "        page_content=docs,\n",
    "        metadata={\"source\":\"The Sexual Harassment of Women at Workplace\"}\n",
    "    )"
   ]
  },
  {
   "cell_type": "markdown",
   "metadata": {},
   "source": [
    "Parent Document Retrieval"
   ]
  },
  {
   "cell_type": "code",
   "execution_count": 56,
   "metadata": {},
   "outputs": [],
   "source": [
    "parent_splitter = RecursiveCharacterTextSplitter(\n",
    "        chunk_size=1000,\n",
    "        chunk_overlap=100,\n",
    "        separators=[r'[0-9]{1}?[0-9]{1}[.][\\s][\\D][\\bCHAPTER \\s\\b]','.','\\n'],\n",
    "        is_separator_regex=True\n",
    ")\n",
    "child_splitter = RecursiveCharacterTextSplitter(\n",
    "        chunk_size=250,\n",
    "        chunk_overlap=100,\n",
    "        separators=[r'[0-9]{1}?[0-9]{1}[.][\\s][\\D][\\bCHAPTER \\s\\b]','.','\\n'],\n",
    "        is_separator_regex=True\n",
    ")\n",
    "fs = LocalFileStore(\"./store_location\")\n",
    "store = create_kv_docstore(fs)\n",
    "\n",
    "vectorstore = Chroma(\n",
    "    collection_name=\"my_collection\",\n",
    "    embedding_function=embeddings,\n",
    "    persist_directory=\"./db\",\n",
    ")\n",
    "\n",
    "retriever = ParentDocumentRetriever(\n",
    "    vectorstore=vectorstore,\n",
    "    docstore=store,\n",
    "    child_splitter=child_splitter,\n",
    "    parent_splitter=parent_splitter\n",
    ")\n",
    "\n",
    "#retriever.add_documents([documents_rec])"
   ]
  },
  {
   "cell_type": "markdown",
   "metadata": {},
   "source": [
    "Verifying Document Retrieval"
   ]
  },
  {
   "cell_type": "code",
   "execution_count": 50,
   "metadata": {},
   "outputs": [
    {
     "name": "stdout",
     "output_type": "stream",
     "text": [
      "You have 44 parent docs and 254 child docs\n"
     ]
    }
   ],
   "source": [
    "num_parent_docs = len(list(retriever.docstore.yield_keys()))\n",
    "num_child_docs = len(set(retriever.vectorstore.get()['documents']))\n",
    "\n",
    "print (f\"You have {num_parent_docs} parent docs and {num_child_docs} child docs\")"
   ]
  },
  {
   "cell_type": "code",
   "execution_count": 51,
   "metadata": {},
   "outputs": [
    {
     "data": {
      "text/plain": [
       "['ba1fac9e-b449-4022-b6f5-98dc4a3141c1',\n",
       " 'f3b9ba68-17f9-47aa-9e7d-ea9f671716b6',\n",
       " '341d4a03-3a15-4979-92b4-bc5ee7114188',\n",
       " 'cefe9fcb-5689-4e50-9a72-2b2091716472',\n",
       " 'e7b81077-10b9-4ab8-9ee0-85dd1e0da249',\n",
       " '5650afad-af51-4c01-a923-cb19e11deb48',\n",
       " '4a789653-2e3c-4845-8a3f-06c51d384b15',\n",
       " '9c91ce55-8717-47e2-b9ed-69ef35f48b91',\n",
       " 'e2bcec02-9cdd-41af-bd51-a79501537e2b',\n",
       " '48d45cb4-0da4-4c79-8965-e94b70e1334f',\n",
       " 'c9c02000-eb3f-42b7-ac96-fcac56fe9c95',\n",
       " '5e5e7173-466a-416a-b2ce-6099dd0c9d0c',\n",
       " '60e76fcf-b85f-4158-8c2b-e3e5d14778d4',\n",
       " '03e2cd13-113c-4c5b-a6f9-5a04bc291dad',\n",
       " '762f0f30-8c66-4655-a1b7-d33a4594372a',\n",
       " '59796840-920a-4817-abaa-3a7bbfa52d9b',\n",
       " 'e1d97783-d9cc-4bc7-b4e4-8d40e7ce1a51',\n",
       " '57ac6bd6-be12-4621-b111-45c1f4dbee5e',\n",
       " 'dfe392c1-2985-4d8d-b319-6fed0b776231',\n",
       " 'fc573cfa-d064-4ce2-b666-ffbe643213e0',\n",
       " '594263f1-f6f2-46dd-bec7-62efe342c705',\n",
       " '83b33416-6a6f-4b2f-ae22-afe651bdcd63',\n",
       " '68d0db8a-8ba0-42e5-842f-4eccc1de2c95',\n",
       " 'e02b6d82-ceae-4176-8c21-0ecff1944d5c',\n",
       " 'd651df5c-6ec5-4aa3-bdde-14a80d9fccfa',\n",
       " '19f11803-9a2c-4486-a8b4-032cc0bd49ce',\n",
       " '7120fa9f-b80c-45d7-9605-3bf31d53ab4b',\n",
       " 'fc6139f9-a634-4592-a488-15dad02a7c42',\n",
       " '79c7e3f9-9ab5-4ae1-83ce-e38cc22a5276',\n",
       " '885f4b52-eb8a-4f47-9e4b-73d68159c12d',\n",
       " 'ab32d2b2-ab6b-471b-b456-6bce80470e29',\n",
       " 'a83d2069-b949-4435-b3f0-1f987252be74',\n",
       " '18f90513-0406-4933-a05a-9e081d59aaac',\n",
       " '6fdaaf22-6dff-407c-b874-d3b907712bb6',\n",
       " '2712d2e9-d472-4f58-ba10-822ced4e2b5b',\n",
       " '151fdac7-78c4-44ec-9042-84186ff0f754',\n",
       " '5f0158be-eea6-4002-8573-ad1cf86b4310',\n",
       " '8d823499-1f90-4347-a39a-3fd35ec79623',\n",
       " '770d8095-3198-48ef-ad6d-4421113143aa',\n",
       " 'fa395c3c-b1e9-4b51-8f3f-310194fb0671',\n",
       " 'e9f6f431-e7aa-4b99-abd6-cd26129f78fe',\n",
       " 'd18c0b9c-ff06-4b20-bd84-02e5389ee629',\n",
       " '8c34e6ea-83e4-43e0-baa3-98aa95f9247e',\n",
       " 'e517819b-9d0a-412a-8519-f05356357191']"
      ]
     },
     "execution_count": 51,
     "metadata": {},
     "output_type": "execute_result"
    }
   ],
   "source": [
    "list(store.yield_keys())"
   ]
  },
  {
   "cell_type": "code",
   "execution_count": 52,
   "metadata": {},
   "outputs": [
    {
     "name": "stdout",
     "output_type": "stream",
     "text": [
      "Child docs found: 4\n",
      "-----------------------------\n",
      "Selected doc content:\n",
      "Local Committee may, for \n",
      "the reasons to be recorded in writing, extend the time limit not exceeding three months , if it is satisfied \n",
      "that the circumstances were such which prevented the woman from filing  a complaint within the said \n",
      "period.  \n",
      "(2)\n"
     ]
    }
   ],
   "source": [
    "child_docs = vectorstore.similarity_search(\"What is internal complaints committee?\")\n",
    "\n",
    "print (f\"Child docs found: {len(child_docs)}\")\n",
    "print('-----------------------------')\n",
    "print('Selected doc content:')\n",
    "print(child_docs[0].page_content)"
   ]
  },
  {
   "cell_type": "code",
   "execution_count": 53,
   "metadata": {},
   "outputs": [
    {
     "name": "stdout",
     "output_type": "stream",
     "text": [
      "Local Committee may, for \n",
      "the reasons to be recorded in writing, extend the time limit not exceeding three months , if it is satisfied \n",
      "that the circumstances were such which prevented the woman from filing  a complaint within the said \n",
      "period.  \n",
      "(2) Where the aggrieved woman is unable to make a complaint on account of   her physical or mental \n",
      "incapacity or death or otherwise, her legal heir or such other person as may be prescribe d may make a \n",
      "complaint under this section.  \n",
      "10. Conciliation. —(1) The Internal Committee or, as the case may be, the Local Committee, may, \n",
      "before initiating an inquiry under section 11 and at the request of the aggrieved woman take steps to settle \n",
      "the matter between her and the respondent through conciliation:  \n",
      "Provided that no monetary settlement shall be made as a basis of conciliation.  \n",
      "(2) Where settlement has been arrived at under sub -section (1), the Internal Committee or the Local \n",
      "Committee, as the  case may be, shall record the settlement s\n"
     ]
    }
   ],
   "source": [
    "id = child_docs[0].metadata['doc_id']\n",
    "v = store.mget([id])\n",
    "print(v[0].page_content)"
   ]
  },
  {
   "cell_type": "code",
   "execution_count": 55,
   "metadata": {},
   "outputs": [
    {
     "name": "stdout",
     "output_type": "stream",
     "text": [
      "Parent retrieved docs found: 4 \n",
      "-----------------------------\n",
      "Selected doc content:\n",
      "Local Committee may, for \n",
      "the reasons to be recorded in writing, extend the time limit not exceeding three months , if it is satisfied \n",
      "that the circumstances were such which prevented the woman from filing  a complaint within the said \n",
      "period.  \n",
      "(2) Where the aggrieved woman is unable to make a complaint on account of   her physical or mental \n",
      "incapacity or death or otherwise, her legal heir or such other person as may be prescribe d may make a \n",
      "complaint under this section.  \n",
      "10. Conciliation. —(1) The Internal Committee or, as the case may be, the Local Committee, may, \n",
      "before initiating an inquiry under section 11 and at the request of the aggrieved woman take steps to settle \n",
      "the matter between her and the respondent through conciliation:  \n",
      "Provided that no monetary settlement shall be made as a basis of conciliation.  \n",
      "(2) Where settlement has been arrived at under sub -section (1), the Internal Committee or the Local \n",
      "Committee, as the  case may be, shall record the settlement s\n"
     ]
    }
   ],
   "source": [
    "retrieved_docs = retriever.invoke(\"What is internal complaints committee?\")\n",
    "\n",
    "print(f\"Parent retrieved docs found: {len(retrieved_docs)} \")\n",
    "print('-----------------------------')\n",
    "print('Selected doc content:')\n",
    "print(retrieved_docs[0].page_content)"
   ]
  },
  {
   "cell_type": "markdown",
   "metadata": {},
   "source": [
    "Defining LLMs for Ensemble"
   ]
  },
  {
   "cell_type": "code",
   "execution_count": 24,
   "metadata": {},
   "outputs": [],
   "source": [
    "llm1 = ChatOllama(model=\"gemma2:2b\")\n",
    "llm2 = ChatOllama(model=\"llama3:latest\")\n",
    "llm3 = ChatOllama(model=\"mistral:latest\")\n",
    "llm4 = ChatOllama(model=\"nemotron-mini\")"
   ]
  },
  {
   "cell_type": "markdown",
   "metadata": {},
   "source": [
    "Generation Prompt"
   ]
  },
  {
   "cell_type": "code",
   "execution_count": 22,
   "metadata": {},
   "outputs": [],
   "source": [
    "qa_system_prompt = \"\"\"You are an experienced and skilled indian corporate laywer who answers the queries and provide explaination\n",
    "    to the indian citizens queries. For the given question answer the question given to you based only on the following context and title. If you don't know the answer, just say that you don't know.\n",
    "\n",
    "    <context>\n",
    "    {context}\n",
    "    </context>\n",
    "    \"\"\"\n",
    "\n",
    "from langchain.schema.runnable import RunnableLambda, RunnablePassthrough\n",
    "prompt = ChatPromptTemplate.from_messages(\n",
    "    [\n",
    "        (\"system\", qa_system_prompt),\n",
    "        (\"human\", \"Question : {question} Title: {title}\"),\n",
    "    ]\n",
    ")"
   ]
  },
  {
   "cell_type": "markdown",
   "metadata": {},
   "source": [
    "RAG Chains"
   ]
  },
  {
   "cell_type": "code",
   "execution_count": 27,
   "metadata": {},
   "outputs": [],
   "source": [
    "chain1 = (\n",
    "        {\n",
    "        \"context\": itemgetter(\"question\") | retriever,\n",
    "        \"question\": itemgetter(\"question\"),\n",
    "        \"title\": itemgetter(\"title\"),\n",
    "        }\n",
    "        | RunnablePassthrough.assign(\n",
    "                context=itemgetter(\"context\")\n",
    "        )\n",
    "        | {\n",
    "         \"response\": prompt | llm1,\n",
    "         \"context\": itemgetter(\"context\"),\n",
    "        }\n",
    ")\n",
    "\n",
    "chain2 = (\n",
    "        {\n",
    "        \"context\": itemgetter(\"question\") | retriever,\n",
    "        \"question\": itemgetter(\"question\"),\n",
    "        \"title\": itemgetter(\"title\"),\n",
    "        }\n",
    "        | RunnablePassthrough.assign(\n",
    "                context=itemgetter(\"context\")\n",
    "        )\n",
    "        | {\n",
    "         \"response\": prompt | llm2,\n",
    "         \"context\": itemgetter(\"context\"),\n",
    "        }\n",
    ")\n",
    "\n",
    "chain3 = (\n",
    "        {\n",
    "        \"context\": itemgetter(\"question\") | retriever,\n",
    "        \"question\": itemgetter(\"question\"),\n",
    "        \"title\": itemgetter(\"title\"),\n",
    "        }\n",
    "        | RunnablePassthrough.assign(\n",
    "                context=itemgetter(\"context\")\n",
    "        )\n",
    "        | {\n",
    "         \"response\": prompt | llm3,\n",
    "         \"context\": itemgetter(\"context\"),\n",
    "        }\n",
    ")\n",
    "\n",
    "chain4 = (\n",
    "        {\n",
    "        \"context\": itemgetter(\"question\") | retriever,\n",
    "        \"question\": itemgetter(\"question\"),\n",
    "        \"title\": itemgetter(\"title\"),\n",
    "        }\n",
    "        | RunnablePassthrough.assign(\n",
    "                context=itemgetter(\"context\")\n",
    "        )\n",
    "        | {\n",
    "         \"response\": prompt | llm4,\n",
    "         \"context\": itemgetter(\"context\"),\n",
    "        }\n",
    ")\n",
    "\n",
    "rag_chains = [chain1, chain2, chain3]"
   ]
  },
  {
   "cell_type": "markdown",
   "metadata": {},
   "source": [
    "Input the Question"
   ]
  },
  {
   "cell_type": "code",
   "execution_count": 33,
   "metadata": {},
   "outputs": [
    {
     "name": "stdout",
     "output_type": "stream",
     "text": [
      " Based on the provided context, there is no information about the duties of a District Officer in relation to \"The Sexual Harassment of Women at Workplace\" Act. This Act primarily discusses the duties of employers towards their female employees in an attempt to prevent sexual harassment and provide mechanisms for handling complaints. The text mentions various provisions regarding the composition of Internal Committees, time limits for filing complaints, conciliation procedures, and the power of the Central Government to remove difficulties in giving effect to the Act's provisions. However, it does not mention any specific duties or roles assigned to a District Officer in this context.\n"
     ]
    }
   ],
   "source": [
    "maxi_p = 0\n",
    "ans = None\n",
    "con = None\n",
    "for chain in rag_chains:\n",
    "    answer = chain.invoke({\"question\" : \"What are the duties of the District Officer?\", \"title\" : \"The sexual harrasement of women at workplace.\"})\n",
    "    maxi = 0\n",
    "    con_c = None\n",
    "    for context in answer[\"context\"]:\n",
    "        sim_score = cosine_sim(context.page_content, answer[\"response\"].content)\n",
    "        if sim_score > maxi:\n",
    "            maxi = sim_score\n",
    "            con_c = context.page_content\n",
    "    if sim_score > maxi_p:\n",
    "        ans = answer[\"response\"].content\n",
    "        con = con_c\n",
    "print(ans)"
   ]
  },
  {
   "cell_type": "markdown",
   "metadata": {},
   "source": [
    "## Streaming API"
   ]
  },
  {
   "cell_type": "code",
   "execution_count": null,
   "metadata": {},
   "outputs": [],
   "source": [
    "llm=ChatOllama(model=\"llama3\"),"
   ]
  },
  {
   "cell_type": "code",
   "execution_count": null,
   "metadata": {},
   "outputs": [],
   "source": [
    "qa_system_prompt = \"\"\"You are an experienced and skilled indian corporate laywer who answers the queries and provide explaination\n",
    "    to the indian citizens queries. For the given question answer the question given to you based only on the following context and title. If you don't know the answer, just say that you don't know.\n",
    "\n",
    "    <context>\n",
    "    {context}\n",
    "    </context>\n",
    "    \"\"\"\n",
    "\n",
    "qa_prompt = ChatPromptTemplate.from_messages(\n",
    "    [\n",
    "        (\"system\", qa_system_prompt),\n",
    "        MessagesPlaceholder(\"chat_history\"),\n",
    "        (\"human\", \"Question : {question} Title: {title}\"),\n",
    "    ]\n",
    ")\n",
    "\n",
    "question_answer_chain = create_stuff_documents_chain(llm, qa_prompt)"
   ]
  },
  {
   "cell_type": "code",
   "execution_count": null,
   "metadata": {},
   "outputs": [],
   "source": [
    "contextualize_q_system_prompt = \"\"\"Given a chat history and the latest user question \\\n",
    "which might reference context in the chat history, formulate a standalone question \\\n",
    "which can be understood without the chat history. Do NOT answer the question, \\\n",
    "just reformulate it, if needed and otherwise return it as is.\"\"\"\n",
    "\n",
    "contextualize_q_prompt = ChatPromptTemplate.from_messages(\n",
    "    [\n",
    "        (\"system\", contextualize_q_system_prompt),\n",
    "        MessagesPlaceholder(\"chat_history\"),\n",
    "        (\"human\", \"{input}\"),\n",
    "    ]\n",
    ")\n",
    "\n",
    "history_aware_retriever = create_history_aware_retriever(\n",
    "    llm, retriever, contextualize_q_prompt\n",
    ")"
   ]
  },
  {
   "cell_type": "code",
   "execution_count": null,
   "metadata": {},
   "outputs": [],
   "source": [
    "rag_chain = create_retrieval_chain(history_aware_retriever, question_answer_chain)"
   ]
  },
  {
   "cell_type": "code",
   "execution_count": 48,
   "metadata": {},
   "outputs": [],
   "source": [
    "store = {}\n",
    "\n",
    "def get_session_history(session_id: str) -> BaseChatMessageHistory:\n",
    "    if session_id not in store:\n",
    "        store[session_id] = ChatMessageHistory()\n",
    "    return store[session_id]\n",
    "\n",
    "\n",
    "conversational_rag_chain = RunnableWithMessageHistory(\n",
    "    rag_chain,\n",
    "    get_session_history,\n",
    "    input_messages_key=\"input\",\n",
    "    history_messages_key=\"chat_history\",\n",
    "    output_messages_key=\"answer\",\n",
    ")"
   ]
  },
  {
   "cell_type": "code",
   "execution_count": null,
   "metadata": {},
   "outputs": [],
   "source": [
    "question = \"What is sexual Harassment?\"\n",
    "async for chunk in conversational_rag_chain.astream(\n",
    "    {\"input\": question, \"question\" : question, \"title\" : \"The Sexual Harassment of Women at Workplace\"},\n",
    "    config={\n",
    "        \"configurable\": {\"session_id\": \"abc123\"}},\n",
    "    ):\n",
    "        if('answer' in chunk):\n",
    "            print(chunk['answer'])\n",
    "            # content = chunk['answer'].replace(\"\\n\", '<br>')\n",
    "            # yield f\"data : {content}\\n\\n\""
   ]
  },
  {
   "cell_type": "code",
   "execution_count": 54,
   "metadata": {},
   "outputs": [],
   "source": [
    "from tqdm import tqdm\n",
    "async def generate_chat(question) :\n",
    "    print(\"Process Started\")\n",
    "    print(question)\n",
    "    async for chunk in conversational_rag_chain.astream(\n",
    "    {\"input\": question, \"question\" : question, \"title\" : \"The Sexual Harassment of Women at Workplace\"},\n",
    "    config={\n",
    "        \"configurable\": {\"session_id\": \"abc123\"}},\n",
    "    ):\n",
    "        if('answer' in chunk):\n",
    "            content = chunk['answer'].replace(\"\\n\", \"<br>\")\n",
    "            yield f\"data : {content}\\n\\n\""
   ]
  },
  {
   "cell_type": "code",
   "execution_count": null,
   "metadata": {},
   "outputs": [],
   "source": [
    "from fastapi import FastAPI, Response\n",
    "from fastapi.responses import StreamingResponse, FileResponse\n",
    "from fastapi.middleware.cors import CORSMiddleware\n",
    "\n",
    "app = FastAPI()\n",
    "\n",
    "app.add_middleware(\n",
    "    CORSMiddleware,\n",
    "    allow_origins=['*']\n",
    ")\n",
    "\n",
    "@app.get(\"/\")\n",
    "async def root():\n",
    "    return FileResponse(\"./index.html\")\n",
    "\n",
    "@app.get(\"/get-response/{data}\")\n",
    "async def get_stream(data : str, response : Response):\n",
    "    response.headers[\"content-type\"] = \"text/event-stream\"\n",
    "    return StreamingResponse(generate_chat(question=data), media_type=\"text/event-stream\")\n",
    "\n",
    "if __name__ == '__main__':\n",
    "    import uvicorn\n",
    "    uvicorn.run(app, host=\"0.0.0.0\", port=8000)"
   ]
  },
  {
   "cell_type": "markdown",
   "metadata": {},
   "source": [
    "## Evaluation"
   ]
  },
  {
   "cell_type": "markdown",
   "metadata": {},
   "source": [
    "Creating the evaluation dataset"
   ]
  },
  {
   "cell_type": "code",
   "execution_count": 34,
   "metadata": {},
   "outputs": [
    {
     "name": "stderr",
     "output_type": "stream",
     "text": [
      "  1%|          | 1/168 [01:39<4:36:20, 99.28s/it]"
     ]
    },
    {
     "name": "stdout",
     "output_type": "stream",
     "text": [
      " According to the context provided from 'The Sexual Harassment of Women at Workplace' Act, there is no specific provision that restricts or allows a non-governmental organization (NGO) to nominate multiple members to the Internal Complaints Committee (ICC). However, it is mentioned that at least one member should be a woman and have a background in law or legal knowledge. As such, if an NGO wishes to nominate multiple members to the ICC, they can do so, as long as the required qualifications for the specified positions are met. It's always advisable to consult with a legal expert to ensure compliance with any specific regulations or interpretations of the Act.\n"
     ]
    },
    {
     "name": "stderr",
     "output_type": "stream",
     "text": [
      "  1%|          | 2/168 [03:06<4:15:10, 92.23s/it]"
     ]
    },
    {
     "name": "stdout",
     "output_type": "stream",
     "text": [
      " In the given context from the \"The Sexual Harassment of Women at Workplace\" act, section 16 does not explicitly appear. However, I can provide information regarding penalties for non-compliance with other provisions of the Act, which may give an idea of the possible consequences for violating similar sections.\n",
      "\n",
      "If an employer fails to constitute an Internal Committee under sub-section (1) of section 4, take action under sections 13, 14, and 22, or contravenes or attempts to contravene other provisions of this Act or any rules made thereunder, they shall be punishable with a fine which may extend up to fifty thousand rupees. If such an employer has been previously convicted of the same offense and subsequently commits it again, they may face a punishment twice the amount of the first conviction, subject to the maximum punishment provided for the same offense, or as prescribed under any other law in force at that time (Source: The Sexual Harassment of Women at Workplace Act).\n",
      "\n",
      "It should be noted that these penalties refer to specific situations mentioned in the act and may not cover all potential violations. For a more accurate answer regarding the consequences for an individual who violates section 16, one would need to review the specific provisions of section 16 or consult with a legal professional.\n"
     ]
    },
    {
     "name": "stderr",
     "output_type": "stream",
     "text": [
      "  2%|▏         | 3/168 [04:30<4:02:48, 88.30s/it]"
     ]
    },
    {
     "name": "stdout",
     "output_type": "stream",
     "text": [
      " According to the given context, there is no specific information provided about the requirements for the composition of the Local Complaints Committee under the Sexual Harassment of Women at Workplace (Prevention, Prohibition and Redressal) Act regarding the nomination of members from social work, local bodies, and NGOs committed to women's causes. However, it is stated that every employer should constitute an Internal Committee under section 4(1) of the act, and among the members of this committee, one member may be a non-governmental organization representative. But there is no explicit information about the Local Complaints Committee in this regard. Therefore, I would recommend referring to the relevant rules or regulations prescribed under the Act for more detailed information on the composition of the Local Complaints Committee.\n"
     ]
    },
    {
     "name": "stderr",
     "output_type": "stream",
     "text": [
      "  2%|▏         | 4/168 [05:47<3:49:44, 84.05s/it]"
     ]
    },
    {
     "name": "stdout",
     "output_type": "stream",
     "text": [
      " According to the provided context from \"The Sexual Harassment of Women at Workplace\" Act, there is no explicit requirement for nominating two members, at least one of whom is a woman, for the district's RD (Rural Development) or municipality committee specifically based on their commitment to women's causes or expertise in sexual harassment issues. However, it does mention that every employer should organize workshops and awareness programs at regular intervals for sensitizing employees with the provisions of the Act and orientation programs for members of the Internal Committee. This implies that expertise in sexual harassment issues could be beneficial when nominating members for such committees. Additionally, the context suggests that a background in law or legal studies may also be preferable since the Act deals with legal matters related to sexual harassment at the workplace. It's essential to note that local rules and regulations may have additional requirements for committee membership.\n"
     ]
    },
    {
     "name": "stderr",
     "output_type": "stream",
     "text": [
      "  3%|▎         | 5/168 [07:02<3:39:27, 80.78s/it]"
     ]
    },
    {
     "name": "stdout",
     "output_type": "stream",
     "text": [
      " In the context given, an authority can call upon an employer or a District Officer to provide written information and authorize an officer to conduct an inspection and submit a report under the following circumstances:\n",
      "\n",
      "1. When there is a requirement to investigate cases of sexual harassment. The authority may do so by issuing an order specifying the period within which the report must be submitted.\n",
      "\n",
      "2. The employer or District Officer is required to produce all information, records, and other documents in their custody that have a bearing on the subject matter of inspection related to sexual harassment, upon demand from the officer making the inspection.\n"
     ]
    },
    {
     "name": "stderr",
     "output_type": "stream",
     "text": [
      "  4%|▎         | 6/168 [08:36<3:49:35, 85.03s/it]"
     ]
    },
    {
     "name": "stdout",
     "output_type": "stream",
     "text": [
      " According to the provided context, a court can take cognizance of an offence punishable under the Sexual Harassment of Women at Workplace Act or its rules in the following circumstances:\n",
      "\n",
      "1. If the aggrieved woman files a complaint under section 9(1) or (2) of the act and the Internal Committee or Local Committee arrives at a conclusion that during the inquiry any witness has given false evidence or produced any forged or misleading document, then the court can take cognizance.\n",
      "\n",
      "2. If the respondent is convicted under section 509 of the Indian Penal Code (45 of 1860), or any other relevant provisions of the said Code where applicable, and the aggrieved woman informs the Internal Committee or Local Committee that any term or condition of the settlement arrived at under section 10(2) has not been complied with by the respondent.\n",
      "\n",
      "3. In case both the parties are employees, if during the course of the inquiry, either party is given an opportunity to be heard and if either party makes a representation against the findings before the Committee and where the court finds that the representations are not satisfactorily addressed, it can take cognizance.\n",
      "\n",
      "4. If the employer fails to comply with the provisions of the act such as failing to constitute an Internal Committee, not taking action under sections 13, 14, and 22, or contravening other provisions of this Act or any rules made there, then the court can take cognizance.\n"
     ]
    },
    {
     "name": "stderr",
     "output_type": "stream",
     "text": [
      "  4%|▍         | 7/168 [10:34<4:17:34, 95.99s/it]"
     ]
    },
    {
     "name": "stdout",
     "output_type": "stream",
     "text": [
      " As per the provided context from \"The Sexual Harassment of Women at Workplace\" Act, when a settlement is reached, the records should be maintained by the Internal Committee or the Local Committee. The provisions do not explicitly mention how to provide these settlement records, but they should be preserved in an appropriate manner as per any rules prescribed.\n",
      "\n",
      "If either party informs that the agreed terms of the settlement have not been complied with by the respondent, the Internal Committee or the Local Committee is required to proceed with an inquiry into the complaint or forward it to the police if necessary. In both cases, during the course of the inquiry, both parties will be given an opportunity to be heard. A copy of the findings shall be made available to both parties, enabling them to make representations against the findings before the Committee.\n",
      "\n",
      "However, there is no explicit mention of further inquiries or procedures following the initial settlement and subsequent non-compliance by the respondent, but it can be inferred that the Internal Committee or the Local Committee will take appropriate action as per the Act and any rules prescribed. It is also worth noting that false evidence or forged documents produced during the inquiry may lead to recommended actions against the witness under the service rules applicable to them (as stated in section 9, sub-section 2 of the Act).\n",
      "\n",
      "Lastly, if either party maliciously intends to falsely accuse someone, an inquiry should be conducted following a procedure prescribed before any action is recommended. A mere inability to substantiate a complaint or provide adequate proof does not attract action against the complainant under this section (as stated in section 9, sub-section 1 of the Act).\n"
     ]
    },
    {
     "name": "stderr",
     "output_type": "stream",
     "text": [
      "  5%|▍         | 8/168 [12:24<4:27:46, 100.41s/it]"
     ]
    },
    {
     "name": "stdout",
     "output_type": "stream",
     "text": [
      " According to the provided context, the Sexual Harassment of Women at Workplace Act does not specify any factors that the Internal Committee or Local Committee should consider while determining the sums to be paid to the aggrieved woman under clause (ii) of sub-section (3) of section 13. The Act only mentions that the amount shall be reasonable and compensatory in nature, taking into account any financial loss, mental trauma, and physical distress suffered by the victim due to sexual harassment. However, the determination of the exact amount is left to the discretion of the Internal Committee or Local Committee. It is advisable to consult with a legal expert for a detailed understanding as this might vary case-by-case.\n"
     ]
    },
    {
     "name": "stderr",
     "output_type": "stream",
     "text": [
      "  5%|▌         | 9/168 [14:53<5:06:43, 115.75s/it]"
     ]
    },
    {
     "name": "stdout",
     "output_type": "stream",
     "text": [
      " In the given context, there is no specific provision mentioned for a scenario where a woman has experienced sexual harassment at her workplace by an individual who is not an employee. However, we can derive some potential steps based on the general provisions mentioned in the act.\n",
      "\n",
      "According to the document, the District Officer (DO) can authorize any officer to make inspections of the records and workplace related to sexual harassment (Section 25). Since the individual causing harassment is not an employee, the employer may not be directly involved, but the DO could still order an inspection of the premises where the alleged incident took place.\n",
      "\n",
      "If evidence of sexual harassment is found during the inspection, the DO can consider it as misconduct under any applicable law for the time being in force (Section 26 - if no service rules exist). The DO can then take appropriate action against the offender.\n",
      "\n",
      "Furthermore, under Chapter VI: Duties of Employer, every employer is required to provide a safe working environment and display penal consequences of sexual harassment at conspicuous places (Section 19-b). Since the alleged harasser is not an employee, it might be the responsibility of the owner or manager of the premises where the incident took place.\n",
      "\n",
      "Lastly, if the individual causing harassment is not within the jurisdiction of the employer, the aggrieved woman may prefer an appeal in such a manner as may be prescribed (Section 20-1). The DO can play a role in guiding or assisting the woman during this process.\n",
      "\n",
      "However, it is essential to note that the Sexual Harassment of Women at Workplace Act, 2013, primarily focuses on preventing and penalizing sexual harassment within the workplace by employers and employees. This act may not directly address situations where the harasser is an outsider or a visitor. It would be advisable for the aggrieved woman to consult with a legal professional for further guidance in this specific scenario.\n"
     ]
    },
    {
     "name": "stderr",
     "output_type": "stream",
     "text": [
      "  6%|▌         | 10/168 [16:25<4:45:10, 108.30s/it]"
     ]
    },
    {
     "name": "stdout",
     "output_type": "stream",
     "text": [
      " According to the provided context from \"The Sexual Harassment of Women at Workplace\" document, if there is no senior-level woman employee available in the workplace, the Presiding Officer for investigating cases of sexual harassment can be nominated as follows:\n",
      "\n",
      "1. In the absence of a woman employee, the employer can nominate any woman from outside the workplace to serve as the Presiding Officer. This is inferred from the fact that section 4(1) requires the employer to constitute an Internal Committee which must have at least one woman member preferably with experience in dealing with sexual harassment cases and the other member who could be a senior-level employee or a person who has knowledge of the subject matter.\n",
      "\n",
      "2. If no suitable woman from outside the workplace can be found, the employer may constitute an Internal Committee consisting of only one member who is a senior-level employee or someone with knowledge of the subject matter. However, in such cases, it would be advisable to seek legal counsel as this does not seem to align with the provisions of the Act that stipulate a preference for having at least one woman on the committee.\n"
     ]
    },
    {
     "name": "stderr",
     "output_type": "stream",
     "text": [
      "  7%|▋         | 11/168 [18:05<4:18:14, 98.69s/it] "
     ]
    },
    {
     "name": "stdout",
     "output_type": "stream",
     "text": [
      " Based on the provided context from \"The Sexual Harassment of Women at Workplace\" Act, it is clear that an employer is required to constitute an Internal Committee under section 4(1) and take action under sections 13, 14, and 22 in case of sexual harassment complaints. However, the Act does not specifically mention that an employer has to prepare a report on cases filed and dispose of them.\n",
      "\n",
      "In this context, if an employer has no information about disposal of cases filed under the Sexual Harassment Act, they are only required to disclose the following in their annual report:\n",
      "\n",
      "1. That an Internal Committee has been constituted as per the provisions of section 4(1) of the Act.\n",
      "2. The measures taken by the employer for providing a safe working environment at the workplace and safety from the persons coming into contact at the workplace, as mentioned under section 19(a).\n",
      "3. Displaying the penal consequences of sexual harassments and the order constituting the Internal Committee under sub-section (1) of section 4, as stated in section 19(b).\n",
      "4. The workshops and awareness programs organized for sensitizing employees with the provisions of the Act, as mentioned in section 19(c).\n"
     ]
    },
    {
     "name": "stderr",
     "output_type": "stream",
     "text": [
      "\n"
     ]
    }
   ],
   "source": [
    "eval_dataset = load_data(\"final_mean_questions.json\")\n",
    "rag_eval_dataset = create_ragas_dataset(rag_chains, eval_dataset)"
   ]
  },
  {
   "cell_type": "markdown",
   "metadata": {},
   "source": [
    "Saving/Loading the evaluation dataset"
   ]
  },
  {
   "cell_type": "code",
   "execution_count": 57,
   "metadata": {},
   "outputs": [],
   "source": [
    "# s.to_csv('rag_eval_dataset.csv')\n",
    "import ast\n",
    "s = pd.read_csv('rag_eval_dataset.csv')\n",
    "s['contexts'] = s['contexts'].apply(lambda x: [x[1:len(x) - 1]])\n",
    "s = s.drop(columns=['Unnamed: 0'])\n",
    "rag_eval_dataset = Dataset.from_pandas(s)\n"
   ]
  },
  {
   "cell_type": "code",
   "execution_count": 58,
   "metadata": {},
   "outputs": [
    {
     "data": {
      "text/plain": [
       "212"
      ]
     },
     "execution_count": 58,
     "metadata": {},
     "output_type": "execute_result"
    }
   ],
   "source": [
    "dat = []\n",
    "for i in range(0, len(rag_eval_dataset)):\n",
    "    g = [rag_eval_dataset[i]]\n",
    "    h = pd.DataFrame(g)\n",
    "    k = Dataset.from_pandas(h)\n",
    "    dat.append(k)\n",
    "len(dat)"
   ]
  },
  {
   "cell_type": "markdown",
   "metadata": {},
   "source": [
    "Evaluating the dataset"
   ]
  },
  {
   "cell_type": "code",
   "execution_count": null,
   "metadata": {},
   "outputs": [],
   "source": [
    "res = []\n",
    "for doc in tqdm(dat):\n",
    "    time.sleep(0.00001)\n",
    "    qa_result = evaluate_ragas_datset(doc)\n",
    "    print(qa_result)\n",
    "    res.append(qa_result)\n",
    "res"
   ]
  },
  {
   "cell_type": "code",
   "execution_count": null,
   "metadata": {},
   "outputs": [],
   "source": [
    "qa_result = evaluate_ragas_datset(rag_eval_dataset)"
   ]
  },
  {
   "cell_type": "markdown",
   "metadata": {},
   "source": [
    "Calculating Average of all metrics"
   ]
  },
  {
   "cell_type": "code",
   "execution_count": 51,
   "metadata": {},
   "outputs": [
    {
     "name": "stdout",
     "output_type": "stream",
     "text": [
      "74.35944033539235 41.35136807636807 81.99999999179987 76.68210678210681\n"
     ]
    }
   ],
   "source": [
    "avg_faith = avg_rel = avg_cp = avg_cr = 0\n",
    "\n",
    "l = 0\n",
    "for doc in res:\n",
    "    if (math.isnan(doc['faithfulness']) != True and math.isnan(doc['answer_relevancy']) != True and\n",
    "        math.isnan(doc['context_precision']) != True and math.isnan(doc['context_recall']) != True):\n",
    "        l += 1\n",
    "        avg_rel += doc['answer_relevancy']\n",
    "        avg_faith += doc['faithfulness']\n",
    "        avg_cp += doc['context_precision']\n",
    "        avg_cr += doc['context_recall']\n",
    "\n",
    "print(100*avg_rel/l, 100*avg_faith/l, 100*avg_cp/l, 100*avg_cr/l)"
   ]
  },
  {
   "cell_type": "markdown",
   "metadata": {},
   "source": [
    "Saving the results"
   ]
  },
  {
   "cell_type": "code",
   "execution_count": 52,
   "metadata": {},
   "outputs": [],
   "source": [
    "with open(\"ensemble_cs.json\", \"w\") as outfile:\n",
    "    json.dump(res, outfile)"
   ]
  },
  {
   "cell_type": "code",
   "execution_count": 26,
   "metadata": {},
   "outputs": [
    {
     "data": {
      "text/html": [
       "<div>\n",
       "<style scoped>\n",
       "    .dataframe tbody tr th:only-of-type {\n",
       "        vertical-align: middle;\n",
       "    }\n",
       "\n",
       "    .dataframe tbody tr th {\n",
       "        vertical-align: top;\n",
       "    }\n",
       "\n",
       "    .dataframe thead th {\n",
       "        text-align: right;\n",
       "    }\n",
       "</style>\n",
       "<table border=\"1\" class=\"dataframe\">\n",
       "  <thead>\n",
       "    <tr style=\"text-align: right;\">\n",
       "      <th></th>\n",
       "      <th>question</th>\n",
       "      <th>contexts</th>\n",
       "      <th>answer</th>\n",
       "      <th>ground_truth</th>\n",
       "      <th>answer_relevancy</th>\n",
       "      <th>context_precision</th>\n",
       "      <th>faithfulness</th>\n",
       "      <th>context_recall</th>\n",
       "    </tr>\n",
       "  </thead>\n",
       "  <tbody>\n",
       "    <tr>\n",
       "      <th>0</th>\n",
       "      <td>Which section of the Indian Penal Code (45 of ...</td>\n",
       "      <td>['nder the Indian Penal Code (45 of 1860) or a...</td>\n",
       "      <td>According to Section 29 of the Sexual Harassme...</td>\n",
       "      <td>The Indian Penal Code (45 of 1860) or any othe...</td>\n",
       "      <td>0.843563</td>\n",
       "      <td>1.0</td>\n",
       "      <td>0.666667</td>\n",
       "      <td>1.0</td>\n",
       "    </tr>\n",
       "  </tbody>\n",
       "</table>\n",
       "</div>"
      ],
      "text/plain": [
       "                                            question  \\\n",
       "0  Which section of the Indian Penal Code (45 of ...   \n",
       "\n",
       "                                            contexts  \\\n",
       "0  ['nder the Indian Penal Code (45 of 1860) or a...   \n",
       "\n",
       "                                              answer  \\\n",
       "0  According to Section 29 of the Sexual Harassme...   \n",
       "\n",
       "                                        ground_truth  answer_relevancy  \\\n",
       "0  The Indian Penal Code (45 of 1860) or any othe...          0.843563   \n",
       "\n",
       "   context_precision  faithfulness  context_recall  \n",
       "0                1.0      0.666667             1.0  "
      ]
     },
     "execution_count": 26,
     "metadata": {},
     "output_type": "execute_result"
    }
   ],
   "source": [
    "df = qa_result.to_pandas()\n",
    "df"
   ]
  }
 ],
 "metadata": {
  "kernelspec": {
   "display_name": "langchain",
   "language": "python",
   "name": "python3"
  },
  "language_info": {
   "codemirror_mode": {
    "name": "ipython",
    "version": 3
   },
   "file_extension": ".py",
   "mimetype": "text/x-python",
   "name": "python",
   "nbconvert_exporter": "python",
   "pygments_lexer": "ipython3",
   "version": "3.12.5"
  }
 },
 "nbformat": 4,
 "nbformat_minor": 2
}
